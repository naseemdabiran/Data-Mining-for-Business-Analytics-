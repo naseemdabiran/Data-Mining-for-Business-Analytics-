{
  "nbformat": 4,
  "nbformat_minor": 0,
  "metadata": {
    "colab": {
      "provenance": [],
      "collapsed_sections": []
    },
    "kernelspec": {
      "name": "python3",
      "display_name": "Python 3"
    },
    "language_info": {
      "name": "python"
    }
  },
  "cells": [
    {
      "cell_type": "code",
      "execution_count": null,
      "metadata": {
        "id": "Asy7IxvaIN7t"
      },
      "outputs": [],
      "source": [
        "# Import libaries \n",
        "\n",
        "import pandas as pd\n",
        "import numpy as np\n",
        "import seaborn as sns \n",
        "import matplotlib.pyplot as plt\n",
        "\n",
        "from sklearn.model_selection import train_test_split\n",
        "from sklearn.preprocessing import StandardScaler\n",
        "from sklearn.model_selection import KFold \n",
        "from sklearn.model_selection import cross_val_score\n",
        "from sklearn.metrics import classification_report\n",
        "\n",
        "from sklearn.tree import DecisionTreeClassifier\n",
        "from sklearn.ensemble import RandomForestClassifier"
      ]
    },
    {
      "cell_type": "code",
      "source": [
        "# Import data \n",
        "\n",
        "h1n1 = pd.read_csv('https://github.com/naseemdabiran/CIS_9660/blob/main/H1N1_Flu_Vaccines.csv')\n",
        "h1n1"
      ],
      "metadata": {
        "colab": {
          "base_uri": "https://localhost:8080/",
          "height": 609
        },
        "id": "Yyw6XyaBIa03",
        "outputId": "93a74e1d-74ee-4302-e008-85bca785c124"
      },
      "execution_count": null,
      "outputs": [
        {
          "output_type": "execute_result",
          "data": {
            "text/plain": [
              "       respondent_id  h1n1_concern  h1n1_knowledge  behavioral_antiviral_meds  \\\n",
              "0                  0           1.0             0.0                        0.0   \n",
              "1                  1           3.0             2.0                        0.0   \n",
              "2                  2           1.0             1.0                        0.0   \n",
              "3                  3           1.0             1.0                        0.0   \n",
              "4                  4           2.0             1.0                        0.0   \n",
              "...              ...           ...             ...                        ...   \n",
              "26702          26702           2.0             0.0                        0.0   \n",
              "26703          26703           1.0             2.0                        0.0   \n",
              "26704          26704           2.0             2.0                        0.0   \n",
              "26705          26705           1.0             1.0                        0.0   \n",
              "26706          26706           0.0             0.0                        0.0   \n",
              "\n",
              "       behavioral_avoidance  behavioral_face_mask  behavioral_wash_hands  \\\n",
              "0                       0.0                   0.0                    0.0   \n",
              "1                       1.0                   0.0                    1.0   \n",
              "2                       1.0                   0.0                    0.0   \n",
              "3                       1.0                   0.0                    1.0   \n",
              "4                       1.0                   0.0                    1.0   \n",
              "...                     ...                   ...                    ...   \n",
              "26702                   1.0                   0.0                    0.0   \n",
              "26703                   1.0                   0.0                    1.0   \n",
              "26704                   1.0                   1.0                    1.0   \n",
              "26705                   0.0                   0.0                    0.0   \n",
              "26706                   1.0                   0.0                    0.0   \n",
              "\n",
              "       behavioral_large_gatherings  behavioral_outside_home  \\\n",
              "0                              0.0                      1.0   \n",
              "1                              0.0                      1.0   \n",
              "2                              0.0                      0.0   \n",
              "3                              1.0                      0.0   \n",
              "4                              1.0                      0.0   \n",
              "...                            ...                      ...   \n",
              "26702                          0.0                      1.0   \n",
              "26703                          0.0                      0.0   \n",
              "26704                          1.0                      0.0   \n",
              "26705                          0.0                      0.0   \n",
              "26706                          0.0                      0.0   \n",
              "\n",
              "       behavioral_touch_face  ...  rent_or_own   employment_status  \\\n",
              "0                        1.0  ...          Own  Not in Labor Force   \n",
              "1                        1.0  ...         Rent            Employed   \n",
              "2                        0.0  ...          Own            Employed   \n",
              "3                        0.0  ...         Rent  Not in Labor Force   \n",
              "4                        1.0  ...          Own            Employed   \n",
              "...                      ...  ...          ...                 ...   \n",
              "26702                    0.0  ...          Own  Not in Labor Force   \n",
              "26703                    0.0  ...         Rent            Employed   \n",
              "26704                    1.0  ...          Own                 NaN   \n",
              "26705                    NaN  ...         Rent            Employed   \n",
              "26706                    0.0  ...          Own  Not in Labor Force   \n",
              "\n",
              "       hhs_geo_region                census_msa  household_adults  \\\n",
              "0            oxchjgsf                   Non-MSA               0.0   \n",
              "1            bhuqouqj  MSA, Not Principle  City               0.0   \n",
              "2            qufhixun  MSA, Not Principle  City               2.0   \n",
              "3            lrircsnp       MSA, Principle City               0.0   \n",
              "4            qufhixun  MSA, Not Principle  City               1.0   \n",
              "...               ...                       ...               ...   \n",
              "26702        qufhixun                   Non-MSA               0.0   \n",
              "26703        lzgpxyit       MSA, Principle City               1.0   \n",
              "26704        lzgpxyit  MSA, Not Principle  City               0.0   \n",
              "26705        lrircsnp                   Non-MSA               1.0   \n",
              "26706        mlyzmhmf       MSA, Principle City               1.0   \n",
              "\n",
              "       household_children  employment_industry  employment_occupation  \\\n",
              "0                     0.0                  NaN                    NaN   \n",
              "1                     0.0             pxcmvdjn               xgwztkwe   \n",
              "2                     0.0             rucpziij               xtkaffoo   \n",
              "3                     0.0                  NaN                    NaN   \n",
              "4                     0.0             wxleyezf               emcorrxb   \n",
              "...                   ...                  ...                    ...   \n",
              "26702                 0.0                  NaN                    NaN   \n",
              "26703                 0.0             fcxhlnwr               cmhcxjea   \n",
              "26704                 0.0                  NaN                    NaN   \n",
              "26705                 0.0             fcxhlnwr               haliazsg   \n",
              "26706                 0.0                  NaN                    NaN   \n",
              "\n",
              "       h1n1_vaccine  seasonal_vaccine  \n",
              "0                 0                 0  \n",
              "1                 0                 1  \n",
              "2                 0                 0  \n",
              "3                 0                 1  \n",
              "4                 0                 0  \n",
              "...             ...               ...  \n",
              "26702             0                 0  \n",
              "26703             0                 0  \n",
              "26704             0                 1  \n",
              "26705             0                 0  \n",
              "26706             0                 0  \n",
              "\n",
              "[26707 rows x 38 columns]"
            ],
            "text/html": [
              "\n",
              "  <div id=\"df-57b2cf05-ced9-40d4-b493-0d77ec284757\">\n",
              "    <div class=\"colab-df-container\">\n",
              "      <div>\n",
              "<style scoped>\n",
              "    .dataframe tbody tr th:only-of-type {\n",
              "        vertical-align: middle;\n",
              "    }\n",
              "\n",
              "    .dataframe tbody tr th {\n",
              "        vertical-align: top;\n",
              "    }\n",
              "\n",
              "    .dataframe thead th {\n",
              "        text-align: right;\n",
              "    }\n",
              "</style>\n",
              "<table border=\"1\" class=\"dataframe\">\n",
              "  <thead>\n",
              "    <tr style=\"text-align: right;\">\n",
              "      <th></th>\n",
              "      <th>respondent_id</th>\n",
              "      <th>h1n1_concern</th>\n",
              "      <th>h1n1_knowledge</th>\n",
              "      <th>behavioral_antiviral_meds</th>\n",
              "      <th>behavioral_avoidance</th>\n",
              "      <th>behavioral_face_mask</th>\n",
              "      <th>behavioral_wash_hands</th>\n",
              "      <th>behavioral_large_gatherings</th>\n",
              "      <th>behavioral_outside_home</th>\n",
              "      <th>behavioral_touch_face</th>\n",
              "      <th>...</th>\n",
              "      <th>rent_or_own</th>\n",
              "      <th>employment_status</th>\n",
              "      <th>hhs_geo_region</th>\n",
              "      <th>census_msa</th>\n",
              "      <th>household_adults</th>\n",
              "      <th>household_children</th>\n",
              "      <th>employment_industry</th>\n",
              "      <th>employment_occupation</th>\n",
              "      <th>h1n1_vaccine</th>\n",
              "      <th>seasonal_vaccine</th>\n",
              "    </tr>\n",
              "  </thead>\n",
              "  <tbody>\n",
              "    <tr>\n",
              "      <th>0</th>\n",
              "      <td>0</td>\n",
              "      <td>1.0</td>\n",
              "      <td>0.0</td>\n",
              "      <td>0.0</td>\n",
              "      <td>0.0</td>\n",
              "      <td>0.0</td>\n",
              "      <td>0.0</td>\n",
              "      <td>0.0</td>\n",
              "      <td>1.0</td>\n",
              "      <td>1.0</td>\n",
              "      <td>...</td>\n",
              "      <td>Own</td>\n",
              "      <td>Not in Labor Force</td>\n",
              "      <td>oxchjgsf</td>\n",
              "      <td>Non-MSA</td>\n",
              "      <td>0.0</td>\n",
              "      <td>0.0</td>\n",
              "      <td>NaN</td>\n",
              "      <td>NaN</td>\n",
              "      <td>0</td>\n",
              "      <td>0</td>\n",
              "    </tr>\n",
              "    <tr>\n",
              "      <th>1</th>\n",
              "      <td>1</td>\n",
              "      <td>3.0</td>\n",
              "      <td>2.0</td>\n",
              "      <td>0.0</td>\n",
              "      <td>1.0</td>\n",
              "      <td>0.0</td>\n",
              "      <td>1.0</td>\n",
              "      <td>0.0</td>\n",
              "      <td>1.0</td>\n",
              "      <td>1.0</td>\n",
              "      <td>...</td>\n",
              "      <td>Rent</td>\n",
              "      <td>Employed</td>\n",
              "      <td>bhuqouqj</td>\n",
              "      <td>MSA, Not Principle  City</td>\n",
              "      <td>0.0</td>\n",
              "      <td>0.0</td>\n",
              "      <td>pxcmvdjn</td>\n",
              "      <td>xgwztkwe</td>\n",
              "      <td>0</td>\n",
              "      <td>1</td>\n",
              "    </tr>\n",
              "    <tr>\n",
              "      <th>2</th>\n",
              "      <td>2</td>\n",
              "      <td>1.0</td>\n",
              "      <td>1.0</td>\n",
              "      <td>0.0</td>\n",
              "      <td>1.0</td>\n",
              "      <td>0.0</td>\n",
              "      <td>0.0</td>\n",
              "      <td>0.0</td>\n",
              "      <td>0.0</td>\n",
              "      <td>0.0</td>\n",
              "      <td>...</td>\n",
              "      <td>Own</td>\n",
              "      <td>Employed</td>\n",
              "      <td>qufhixun</td>\n",
              "      <td>MSA, Not Principle  City</td>\n",
              "      <td>2.0</td>\n",
              "      <td>0.0</td>\n",
              "      <td>rucpziij</td>\n",
              "      <td>xtkaffoo</td>\n",
              "      <td>0</td>\n",
              "      <td>0</td>\n",
              "    </tr>\n",
              "    <tr>\n",
              "      <th>3</th>\n",
              "      <td>3</td>\n",
              "      <td>1.0</td>\n",
              "      <td>1.0</td>\n",
              "      <td>0.0</td>\n",
              "      <td>1.0</td>\n",
              "      <td>0.0</td>\n",
              "      <td>1.0</td>\n",
              "      <td>1.0</td>\n",
              "      <td>0.0</td>\n",
              "      <td>0.0</td>\n",
              "      <td>...</td>\n",
              "      <td>Rent</td>\n",
              "      <td>Not in Labor Force</td>\n",
              "      <td>lrircsnp</td>\n",
              "      <td>MSA, Principle City</td>\n",
              "      <td>0.0</td>\n",
              "      <td>0.0</td>\n",
              "      <td>NaN</td>\n",
              "      <td>NaN</td>\n",
              "      <td>0</td>\n",
              "      <td>1</td>\n",
              "    </tr>\n",
              "    <tr>\n",
              "      <th>4</th>\n",
              "      <td>4</td>\n",
              "      <td>2.0</td>\n",
              "      <td>1.0</td>\n",
              "      <td>0.0</td>\n",
              "      <td>1.0</td>\n",
              "      <td>0.0</td>\n",
              "      <td>1.0</td>\n",
              "      <td>1.0</td>\n",
              "      <td>0.0</td>\n",
              "      <td>1.0</td>\n",
              "      <td>...</td>\n",
              "      <td>Own</td>\n",
              "      <td>Employed</td>\n",
              "      <td>qufhixun</td>\n",
              "      <td>MSA, Not Principle  City</td>\n",
              "      <td>1.0</td>\n",
              "      <td>0.0</td>\n",
              "      <td>wxleyezf</td>\n",
              "      <td>emcorrxb</td>\n",
              "      <td>0</td>\n",
              "      <td>0</td>\n",
              "    </tr>\n",
              "    <tr>\n",
              "      <th>...</th>\n",
              "      <td>...</td>\n",
              "      <td>...</td>\n",
              "      <td>...</td>\n",
              "      <td>...</td>\n",
              "      <td>...</td>\n",
              "      <td>...</td>\n",
              "      <td>...</td>\n",
              "      <td>...</td>\n",
              "      <td>...</td>\n",
              "      <td>...</td>\n",
              "      <td>...</td>\n",
              "      <td>...</td>\n",
              "      <td>...</td>\n",
              "      <td>...</td>\n",
              "      <td>...</td>\n",
              "      <td>...</td>\n",
              "      <td>...</td>\n",
              "      <td>...</td>\n",
              "      <td>...</td>\n",
              "      <td>...</td>\n",
              "      <td>...</td>\n",
              "    </tr>\n",
              "    <tr>\n",
              "      <th>26702</th>\n",
              "      <td>26702</td>\n",
              "      <td>2.0</td>\n",
              "      <td>0.0</td>\n",
              "      <td>0.0</td>\n",
              "      <td>1.0</td>\n",
              "      <td>0.0</td>\n",
              "      <td>0.0</td>\n",
              "      <td>0.0</td>\n",
              "      <td>1.0</td>\n",
              "      <td>0.0</td>\n",
              "      <td>...</td>\n",
              "      <td>Own</td>\n",
              "      <td>Not in Labor Force</td>\n",
              "      <td>qufhixun</td>\n",
              "      <td>Non-MSA</td>\n",
              "      <td>0.0</td>\n",
              "      <td>0.0</td>\n",
              "      <td>NaN</td>\n",
              "      <td>NaN</td>\n",
              "      <td>0</td>\n",
              "      <td>0</td>\n",
              "    </tr>\n",
              "    <tr>\n",
              "      <th>26703</th>\n",
              "      <td>26703</td>\n",
              "      <td>1.0</td>\n",
              "      <td>2.0</td>\n",
              "      <td>0.0</td>\n",
              "      <td>1.0</td>\n",
              "      <td>0.0</td>\n",
              "      <td>1.0</td>\n",
              "      <td>0.0</td>\n",
              "      <td>0.0</td>\n",
              "      <td>0.0</td>\n",
              "      <td>...</td>\n",
              "      <td>Rent</td>\n",
              "      <td>Employed</td>\n",
              "      <td>lzgpxyit</td>\n",
              "      <td>MSA, Principle City</td>\n",
              "      <td>1.0</td>\n",
              "      <td>0.0</td>\n",
              "      <td>fcxhlnwr</td>\n",
              "      <td>cmhcxjea</td>\n",
              "      <td>0</td>\n",
              "      <td>0</td>\n",
              "    </tr>\n",
              "    <tr>\n",
              "      <th>26704</th>\n",
              "      <td>26704</td>\n",
              "      <td>2.0</td>\n",
              "      <td>2.0</td>\n",
              "      <td>0.0</td>\n",
              "      <td>1.0</td>\n",
              "      <td>1.0</td>\n",
              "      <td>1.0</td>\n",
              "      <td>1.0</td>\n",
              "      <td>0.0</td>\n",
              "      <td>1.0</td>\n",
              "      <td>...</td>\n",
              "      <td>Own</td>\n",
              "      <td>NaN</td>\n",
              "      <td>lzgpxyit</td>\n",
              "      <td>MSA, Not Principle  City</td>\n",
              "      <td>0.0</td>\n",
              "      <td>0.0</td>\n",
              "      <td>NaN</td>\n",
              "      <td>NaN</td>\n",
              "      <td>0</td>\n",
              "      <td>1</td>\n",
              "    </tr>\n",
              "    <tr>\n",
              "      <th>26705</th>\n",
              "      <td>26705</td>\n",
              "      <td>1.0</td>\n",
              "      <td>1.0</td>\n",
              "      <td>0.0</td>\n",
              "      <td>0.0</td>\n",
              "      <td>0.0</td>\n",
              "      <td>0.0</td>\n",
              "      <td>0.0</td>\n",
              "      <td>0.0</td>\n",
              "      <td>NaN</td>\n",
              "      <td>...</td>\n",
              "      <td>Rent</td>\n",
              "      <td>Employed</td>\n",
              "      <td>lrircsnp</td>\n",
              "      <td>Non-MSA</td>\n",
              "      <td>1.0</td>\n",
              "      <td>0.0</td>\n",
              "      <td>fcxhlnwr</td>\n",
              "      <td>haliazsg</td>\n",
              "      <td>0</td>\n",
              "      <td>0</td>\n",
              "    </tr>\n",
              "    <tr>\n",
              "      <th>26706</th>\n",
              "      <td>26706</td>\n",
              "      <td>0.0</td>\n",
              "      <td>0.0</td>\n",
              "      <td>0.0</td>\n",
              "      <td>1.0</td>\n",
              "      <td>0.0</td>\n",
              "      <td>0.0</td>\n",
              "      <td>0.0</td>\n",
              "      <td>0.0</td>\n",
              "      <td>0.0</td>\n",
              "      <td>...</td>\n",
              "      <td>Own</td>\n",
              "      <td>Not in Labor Force</td>\n",
              "      <td>mlyzmhmf</td>\n",
              "      <td>MSA, Principle City</td>\n",
              "      <td>1.0</td>\n",
              "      <td>0.0</td>\n",
              "      <td>NaN</td>\n",
              "      <td>NaN</td>\n",
              "      <td>0</td>\n",
              "      <td>0</td>\n",
              "    </tr>\n",
              "  </tbody>\n",
              "</table>\n",
              "<p>26707 rows × 38 columns</p>\n",
              "</div>\n",
              "      <button class=\"colab-df-convert\" onclick=\"convertToInteractive('df-57b2cf05-ced9-40d4-b493-0d77ec284757')\"\n",
              "              title=\"Convert this dataframe to an interactive table.\"\n",
              "              style=\"display:none;\">\n",
              "        \n",
              "  <svg xmlns=\"http://www.w3.org/2000/svg\" height=\"24px\"viewBox=\"0 0 24 24\"\n",
              "       width=\"24px\">\n",
              "    <path d=\"M0 0h24v24H0V0z\" fill=\"none\"/>\n",
              "    <path d=\"M18.56 5.44l.94 2.06.94-2.06 2.06-.94-2.06-.94-.94-2.06-.94 2.06-2.06.94zm-11 1L8.5 8.5l.94-2.06 2.06-.94-2.06-.94L8.5 2.5l-.94 2.06-2.06.94zm10 10l.94 2.06.94-2.06 2.06-.94-2.06-.94-.94-2.06-.94 2.06-2.06.94z\"/><path d=\"M17.41 7.96l-1.37-1.37c-.4-.4-.92-.59-1.43-.59-.52 0-1.04.2-1.43.59L10.3 9.45l-7.72 7.72c-.78.78-.78 2.05 0 2.83L4 21.41c.39.39.9.59 1.41.59.51 0 1.02-.2 1.41-.59l7.78-7.78 2.81-2.81c.8-.78.8-2.07 0-2.86zM5.41 20L4 18.59l7.72-7.72 1.47 1.35L5.41 20z\"/>\n",
              "  </svg>\n",
              "      </button>\n",
              "      \n",
              "  <style>\n",
              "    .colab-df-container {\n",
              "      display:flex;\n",
              "      flex-wrap:wrap;\n",
              "      gap: 12px;\n",
              "    }\n",
              "\n",
              "    .colab-df-convert {\n",
              "      background-color: #E8F0FE;\n",
              "      border: none;\n",
              "      border-radius: 50%;\n",
              "      cursor: pointer;\n",
              "      display: none;\n",
              "      fill: #1967D2;\n",
              "      height: 32px;\n",
              "      padding: 0 0 0 0;\n",
              "      width: 32px;\n",
              "    }\n",
              "\n",
              "    .colab-df-convert:hover {\n",
              "      background-color: #E2EBFA;\n",
              "      box-shadow: 0px 1px 2px rgba(60, 64, 67, 0.3), 0px 1px 3px 1px rgba(60, 64, 67, 0.15);\n",
              "      fill: #174EA6;\n",
              "    }\n",
              "\n",
              "    [theme=dark] .colab-df-convert {\n",
              "      background-color: #3B4455;\n",
              "      fill: #D2E3FC;\n",
              "    }\n",
              "\n",
              "    [theme=dark] .colab-df-convert:hover {\n",
              "      background-color: #434B5C;\n",
              "      box-shadow: 0px 1px 3px 1px rgba(0, 0, 0, 0.15);\n",
              "      filter: drop-shadow(0px 1px 2px rgba(0, 0, 0, 0.3));\n",
              "      fill: #FFFFFF;\n",
              "    }\n",
              "  </style>\n",
              "\n",
              "      <script>\n",
              "        const buttonEl =\n",
              "          document.querySelector('#df-57b2cf05-ced9-40d4-b493-0d77ec284757 button.colab-df-convert');\n",
              "        buttonEl.style.display =\n",
              "          google.colab.kernel.accessAllowed ? 'block' : 'none';\n",
              "\n",
              "        async function convertToInteractive(key) {\n",
              "          const element = document.querySelector('#df-57b2cf05-ced9-40d4-b493-0d77ec284757');\n",
              "          const dataTable =\n",
              "            await google.colab.kernel.invokeFunction('convertToInteractive',\n",
              "                                                     [key], {});\n",
              "          if (!dataTable) return;\n",
              "\n",
              "          const docLinkHtml = 'Like what you see? Visit the ' +\n",
              "            '<a target=\"_blank\" href=https://colab.research.google.com/notebooks/data_table.ipynb>data table notebook</a>'\n",
              "            + ' to learn more about interactive tables.';\n",
              "          element.innerHTML = '';\n",
              "          dataTable['output_type'] = 'display_data';\n",
              "          await google.colab.output.renderOutput(dataTable, element);\n",
              "          const docLink = document.createElement('div');\n",
              "          docLink.innerHTML = docLinkHtml;\n",
              "          element.appendChild(docLink);\n",
              "        }\n",
              "      </script>\n",
              "    </div>\n",
              "  </div>\n",
              "  "
            ]
          },
          "metadata": {},
          "execution_count": 34
        }
      ]
    },
    {
      "cell_type": "code",
      "source": [
        "h1n1.shape"
      ],
      "metadata": {
        "colab": {
          "base_uri": "https://localhost:8080/"
        },
        "id": "hnXtt-OMInfK",
        "outputId": "7f356fa7-3e75-4ff8-fea8-e0bb8f706261"
      },
      "execution_count": null,
      "outputs": [
        {
          "output_type": "execute_result",
          "data": {
            "text/plain": [
              "(26707, 38)"
            ]
          },
          "metadata": {},
          "execution_count": 35
        }
      ]
    },
    {
      "cell_type": "code",
      "source": [
        "h1n1.info()"
      ],
      "metadata": {
        "colab": {
          "base_uri": "https://localhost:8080/"
        },
        "id": "JeycqDmvIqPA",
        "outputId": "201c483a-77e2-49dc-91ce-08f2326602f8"
      },
      "execution_count": null,
      "outputs": [
        {
          "output_type": "stream",
          "name": "stdout",
          "text": [
            "<class 'pandas.core.frame.DataFrame'>\n",
            "RangeIndex: 26707 entries, 0 to 26706\n",
            "Data columns (total 38 columns):\n",
            " #   Column                       Non-Null Count  Dtype  \n",
            "---  ------                       --------------  -----  \n",
            " 0   respondent_id                26707 non-null  int64  \n",
            " 1   h1n1_concern                 26615 non-null  float64\n",
            " 2   h1n1_knowledge               26591 non-null  float64\n",
            " 3   behavioral_antiviral_meds    26636 non-null  float64\n",
            " 4   behavioral_avoidance         26499 non-null  float64\n",
            " 5   behavioral_face_mask         26688 non-null  float64\n",
            " 6   behavioral_wash_hands        26665 non-null  float64\n",
            " 7   behavioral_large_gatherings  26620 non-null  float64\n",
            " 8   behavioral_outside_home      26625 non-null  float64\n",
            " 9   behavioral_touch_face        26579 non-null  float64\n",
            " 10  doctor_recc_h1n1             24547 non-null  float64\n",
            " 11  doctor_recc_seasonal         24547 non-null  float64\n",
            " 12  chronic_med_condition        25736 non-null  float64\n",
            " 13  child_under_6_months         25887 non-null  float64\n",
            " 14  health_worker                25903 non-null  float64\n",
            " 15  health_insurance             14433 non-null  float64\n",
            " 16  opinion_h1n1_vacc_effective  26316 non-null  float64\n",
            " 17  opinion_h1n1_risk            26319 non-null  float64\n",
            " 18  opinion_h1n1_sick_from_vacc  26312 non-null  float64\n",
            " 19  opinion_seas_vacc_effective  26245 non-null  float64\n",
            " 20  opinion_seas_risk            26193 non-null  float64\n",
            " 21  opinion_seas_sick_from_vacc  26170 non-null  float64\n",
            " 22  age_group                    26707 non-null  object \n",
            " 23  education                    25300 non-null  object \n",
            " 24  race                         26707 non-null  object \n",
            " 25  sex                          26707 non-null  object \n",
            " 26  income_poverty               22284 non-null  object \n",
            " 27  marital_status               25299 non-null  object \n",
            " 28  rent_or_own                  24665 non-null  object \n",
            " 29  employment_status            25244 non-null  object \n",
            " 30  hhs_geo_region               26707 non-null  object \n",
            " 31  census_msa                   26707 non-null  object \n",
            " 32  household_adults             26458 non-null  float64\n",
            " 33  household_children           26458 non-null  float64\n",
            " 34  employment_industry          13377 non-null  object \n",
            " 35  employment_occupation        13237 non-null  object \n",
            " 36  h1n1_vaccine                 26707 non-null  int64  \n",
            " 37  seasonal_vaccine             26707 non-null  int64  \n",
            "dtypes: float64(23), int64(3), object(12)\n",
            "memory usage: 7.7+ MB\n"
          ]
        }
      ]
    },
    {
      "cell_type": "code",
      "source": [
        "h1n1.isnull().sum()"
      ],
      "metadata": {
        "colab": {
          "base_uri": "https://localhost:8080/"
        },
        "id": "78Ppt2PeIzjC",
        "outputId": "362bef9a-f59e-45f0-ab76-8aef25056fae"
      },
      "execution_count": null,
      "outputs": [
        {
          "output_type": "execute_result",
          "data": {
            "text/plain": [
              "respondent_id                      0\n",
              "h1n1_concern                      92\n",
              "h1n1_knowledge                   116\n",
              "behavioral_antiviral_meds         71\n",
              "behavioral_avoidance             208\n",
              "behavioral_face_mask              19\n",
              "behavioral_wash_hands             42\n",
              "behavioral_large_gatherings       87\n",
              "behavioral_outside_home           82\n",
              "behavioral_touch_face            128\n",
              "doctor_recc_h1n1                2160\n",
              "doctor_recc_seasonal            2160\n",
              "chronic_med_condition            971\n",
              "child_under_6_months             820\n",
              "health_worker                    804\n",
              "health_insurance               12274\n",
              "opinion_h1n1_vacc_effective      391\n",
              "opinion_h1n1_risk                388\n",
              "opinion_h1n1_sick_from_vacc      395\n",
              "opinion_seas_vacc_effective      462\n",
              "opinion_seas_risk                514\n",
              "opinion_seas_sick_from_vacc      537\n",
              "age_group                          0\n",
              "education                       1407\n",
              "race                               0\n",
              "sex                                0\n",
              "income_poverty                  4423\n",
              "marital_status                  1408\n",
              "rent_or_own                     2042\n",
              "employment_status               1463\n",
              "hhs_geo_region                     0\n",
              "census_msa                         0\n",
              "household_adults                 249\n",
              "household_children               249\n",
              "employment_industry            13330\n",
              "employment_occupation          13470\n",
              "h1n1_vaccine                       0\n",
              "seasonal_vaccine                   0\n",
              "dtype: int64"
            ]
          },
          "metadata": {},
          "execution_count": 37
        }
      ]
    },
    {
      "cell_type": "code",
      "source": [
        "# Drop employment_industry, employment_occupation, and health_insurance columns  --> High % of null columns \n",
        "h1n1.drop(['employment_occupation', 'employment_industry', 'health_insurance'], axis = 1, inplace = True)"
      ],
      "metadata": {
        "id": "JLrUMYifM9iF"
      },
      "execution_count": null,
      "outputs": []
    },
    {
      "cell_type": "code",
      "source": [
        "# Drop column(s) not of interest \n",
        "h1n1.drop(['respondent_id'], axis = 1, inplace = True)"
      ],
      "metadata": {
        "id": "eGnhaWplRO4I"
      },
      "execution_count": null,
      "outputs": []
    },
    {
      "cell_type": "code",
      "source": [
        "# Replace the missing h1n1_concern values with the mean rounded --> to fit with rest of data (discrete)\n",
        "h1n1['h1n1_concern'].fillna(round(h1n1['h1n1_concern'].mean()), inplace = True)\n",
        "\n",
        "# Replace the missing h1n1_knowledge values with the mean --> to fit with rest of data (discrete)\n",
        "h1n1['h1n1_knowledge'].fillna(round(h1n1['h1n1_knowledge'].mean()), inplace = True)\n",
        "\n",
        "# Replace the missing opinion_h1n1_vacc_effective values with the mean --> to fit with rest of data (discrete)\n",
        "h1n1['opinion_h1n1_vacc_effective'].fillna(round(h1n1['opinion_h1n1_vacc_effective'].mean()), inplace = True)\n",
        "\n",
        "# Replace the missing opinion_h1n1_risk values with the mean --> to fit with rest of data (discrete)\n",
        "h1n1['opinion_h1n1_risk'].fillna(round(h1n1['opinion_h1n1_risk'].mean()), inplace = True)\n",
        "\n",
        "# Replace the missing opinion_h1n1_sick_from_vacc values with the mean --> to fit with rest of data (discrete)\n",
        "h1n1['opinion_h1n1_sick_from_vacc'].fillna(round(h1n1['opinion_h1n1_sick_from_vacc'].mean()), inplace = True)\n",
        "\n",
        "# Replace the missing opinion_seas_risk values with the mean --> to fit with rest of data (discrete)\n",
        "h1n1['opinion_seas_risk'].fillna(round(h1n1['opinion_seas_risk'].mean()), inplace = True)\n",
        "\n",
        "# Replace the missing opinion_seas_vacc_effective values with the mean --> to fit with rest of data (discrete)\n",
        "h1n1['opinion_seas_vacc_effective'].fillna(round(h1n1['opinion_seas_vacc_effective'].mean()), inplace = True)\n",
        "\n",
        "# Replace the missing opinion_seas_sick_from_vacc values with the mean --> to fit with rest of data (discrete)\n",
        "h1n1['opinion_seas_sick_from_vacc'].fillna(round(h1n1['opinion_seas_sick_from_vacc'].mean()), inplace = True)\n",
        "\n",
        "# Replace the missing household_adults values with the mean --> to fit with rest of data (discrete)\n",
        "h1n1['household_adults'].fillna(round(h1n1['household_adults'].mean()), inplace = True)\n",
        "\n",
        "# Replace the missing household_children values with the mean --> to fit with rest of data (discrete)\n",
        "h1n1['household_children'].fillna(round(h1n1['household_children'].mean()), inplace = True)"
      ],
      "metadata": {
        "id": "QSb-HNzAN-XR"
      },
      "execution_count": null,
      "outputs": []
    },
    {
      "cell_type": "code",
      "source": [
        "# source: https://stackoverflow.com/questions/42789324/how-to-pandas-fillna-with-mode-of-column\n",
        "\n",
        "# Replace the missing behavioral_antiviral_meds values with the mode (Because it is a binary column)\n",
        "h1n1['behavioral_antiviral_meds'].fillna(h1n1['behavioral_antiviral_meds'].mode()[0], inplace = True)\n",
        "\n",
        "# Replace the missing behavioral_avoidance values with the mode \n",
        "h1n1['behavioral_avoidance'].fillna(h1n1['behavioral_avoidance'].mode()[0], inplace = True)\n",
        "\n",
        "# Replace the missing behavioral_face_mask values with the mode \n",
        "h1n1['behavioral_face_mask'].fillna(h1n1['behavioral_face_mask'].mode()[0], inplace = True)\n",
        "\n",
        "# Replace the missing behavioral_wash_hands values with the mode \n",
        "h1n1['behavioral_wash_hands'].fillna(h1n1['behavioral_wash_hands'].mode()[0], inplace = True)\n",
        "\n",
        "# Replace the missing behavioral_large_gatherings values with the mode \n",
        "h1n1['behavioral_large_gatherings'].fillna(h1n1['behavioral_large_gatherings'].mode()[0], inplace = True)\n",
        "\n",
        "# Replace the missing behavioral_outside_home values with the mode \n",
        "h1n1['behavioral_outside_home'].fillna(h1n1['behavioral_outside_home'].mode()[0], inplace = True)\n",
        "\n",
        "# Replace the missing behavioral_touch_face values with the mode \n",
        "h1n1['behavioral_touch_face'].fillna(h1n1['behavioral_touch_face'].mode()[0], inplace = True)\n",
        "\n",
        "# Replace the missing doctor_recc_h1n1 values with the mode \n",
        "h1n1['doctor_recc_h1n1'].fillna(h1n1['doctor_recc_h1n1'].mode()[0], inplace = True)\n",
        "\n",
        "# Replace the missing doctor_recc_seasonal values with the mode \n",
        "h1n1['doctor_recc_seasonal'].fillna(h1n1['doctor_recc_seasonal'].mode()[0], inplace = True)\n",
        "\n",
        "# Replace the missing chronic_med_condition values with the mode \n",
        "h1n1['chronic_med_condition'].fillna(h1n1['chronic_med_condition'].mode()[0], inplace = True)\n",
        "\n",
        "# Replace the missing health_worker values with the mode \n",
        "h1n1['health_worker'].fillna(h1n1['health_worker'].mode()[0], inplace = True)\n",
        "\n",
        "# Replace the missing child_under_6_months values with the mode \n",
        "h1n1['child_under_6_months'].fillna(h1n1['child_under_6_months'].mode()[0], inplace = True)"
      ],
      "metadata": {
        "id": "qjMInsdaQdcg"
      },
      "execution_count": null,
      "outputs": []
    },
    {
      "cell_type": "code",
      "source": [
        "# Replace the missing age_group values with the mode (Because it is a object column)\n",
        "h1n1['age_group'].fillna(h1n1['age_group'].mode()[0], inplace = True)\n",
        "\n",
        "# Replace the missing education values with the mode (Because it is a object column)\n",
        "h1n1['education'].fillna(h1n1['education'].mode()[0], inplace = True)\n",
        "\n",
        "# Replace the missing race values with the mode (Because it is a object column)\n",
        "h1n1['race'].fillna(h1n1['race'].mode()[0], inplace = True)\n",
        "\n",
        "# Replace the missing sex values with the mode (Because it is a object column)\n",
        "h1n1['sex'].fillna(h1n1['sex'].mode()[0], inplace = True)\n",
        "\n",
        "# Replace the missing income_poverty values with the mode (Because it is a object column)\n",
        "h1n1['income_poverty'].fillna(h1n1['income_poverty'].mode()[0], inplace = True)\n",
        "\n",
        "# Replace the missing marital_status values with the mode (Because it is a object column)\n",
        "h1n1['marital_status'].fillna(h1n1['marital_status'].mode()[0], inplace = True)\n",
        "\n",
        "# Replace the missing rent_or_own values with the mode (Because it is a object column)\n",
        "h1n1['rent_or_own'].fillna(h1n1['rent_or_own'].mode()[0], inplace = True)\n",
        "\n",
        "# Replace the missing employment_status values with the mode (Because it is a object column)\n",
        "h1n1['employment_status'].fillna(h1n1['employment_status'].mode()[0], inplace = True)"
      ],
      "metadata": {
        "id": "jQIA2U50x8sL"
      },
      "execution_count": null,
      "outputs": []
    },
    {
      "cell_type": "code",
      "source": [
        "# Drop rows with null values rows for rest of columns \n",
        "h1n1 = h1n1.dropna()"
      ],
      "metadata": {
        "id": "9CZWf4K34Ei3"
      },
      "execution_count": null,
      "outputs": []
    },
    {
      "cell_type": "code",
      "source": [
        "h1n1.head()"
      ],
      "metadata": {
        "colab": {
          "base_uri": "https://localhost:8080/",
          "height": 369
        },
        "id": "4yNMkQdVRHSI",
        "outputId": "36adbbf9-ef47-4e8d-8838-6bcb995b0fa7"
      },
      "execution_count": null,
      "outputs": [
        {
          "output_type": "execute_result",
          "data": {
            "text/plain": [
              "   h1n1_concern  h1n1_knowledge  behavioral_antiviral_meds  \\\n",
              "0           1.0             0.0                        0.0   \n",
              "1           3.0             2.0                        0.0   \n",
              "2           1.0             1.0                        0.0   \n",
              "3           1.0             1.0                        0.0   \n",
              "4           2.0             1.0                        0.0   \n",
              "\n",
              "   behavioral_avoidance  behavioral_face_mask  behavioral_wash_hands  \\\n",
              "0                   0.0                   0.0                    0.0   \n",
              "1                   1.0                   0.0                    1.0   \n",
              "2                   1.0                   0.0                    0.0   \n",
              "3                   1.0                   0.0                    1.0   \n",
              "4                   1.0                   0.0                    1.0   \n",
              "\n",
              "   behavioral_large_gatherings  behavioral_outside_home  \\\n",
              "0                          0.0                      1.0   \n",
              "1                          0.0                      1.0   \n",
              "2                          0.0                      0.0   \n",
              "3                          1.0                      0.0   \n",
              "4                          1.0                      0.0   \n",
              "\n",
              "   behavioral_touch_face  doctor_recc_h1n1  ...             income_poverty  \\\n",
              "0                    1.0               0.0  ...              Below Poverty   \n",
              "1                    1.0               0.0  ...              Below Poverty   \n",
              "2                    0.0               0.0  ...  <= $75,000, Above Poverty   \n",
              "3                    0.0               0.0  ...              Below Poverty   \n",
              "4                    1.0               0.0  ...  <= $75,000, Above Poverty   \n",
              "\n",
              "   marital_status  rent_or_own   employment_status  hhs_geo_region  \\\n",
              "0     Not Married          Own  Not in Labor Force        oxchjgsf   \n",
              "1     Not Married         Rent            Employed        bhuqouqj   \n",
              "2     Not Married          Own            Employed        qufhixun   \n",
              "3     Not Married         Rent  Not in Labor Force        lrircsnp   \n",
              "4         Married          Own            Employed        qufhixun   \n",
              "\n",
              "                 census_msa  household_adults  household_children  \\\n",
              "0                   Non-MSA               0.0                 0.0   \n",
              "1  MSA, Not Principle  City               0.0                 0.0   \n",
              "2  MSA, Not Principle  City               2.0                 0.0   \n",
              "3       MSA, Principle City               0.0                 0.0   \n",
              "4  MSA, Not Principle  City               1.0                 0.0   \n",
              "\n",
              "   h1n1_vaccine  seasonal_vaccine  \n",
              "0             0                 0  \n",
              "1             0                 1  \n",
              "2             0                 0  \n",
              "3             0                 1  \n",
              "4             0                 0  \n",
              "\n",
              "[5 rows x 34 columns]"
            ],
            "text/html": [
              "\n",
              "  <div id=\"df-f5de484e-20d5-4eda-b419-e9844d99b6af\">\n",
              "    <div class=\"colab-df-container\">\n",
              "      <div>\n",
              "<style scoped>\n",
              "    .dataframe tbody tr th:only-of-type {\n",
              "        vertical-align: middle;\n",
              "    }\n",
              "\n",
              "    .dataframe tbody tr th {\n",
              "        vertical-align: top;\n",
              "    }\n",
              "\n",
              "    .dataframe thead th {\n",
              "        text-align: right;\n",
              "    }\n",
              "</style>\n",
              "<table border=\"1\" class=\"dataframe\">\n",
              "  <thead>\n",
              "    <tr style=\"text-align: right;\">\n",
              "      <th></th>\n",
              "      <th>h1n1_concern</th>\n",
              "      <th>h1n1_knowledge</th>\n",
              "      <th>behavioral_antiviral_meds</th>\n",
              "      <th>behavioral_avoidance</th>\n",
              "      <th>behavioral_face_mask</th>\n",
              "      <th>behavioral_wash_hands</th>\n",
              "      <th>behavioral_large_gatherings</th>\n",
              "      <th>behavioral_outside_home</th>\n",
              "      <th>behavioral_touch_face</th>\n",
              "      <th>doctor_recc_h1n1</th>\n",
              "      <th>...</th>\n",
              "      <th>income_poverty</th>\n",
              "      <th>marital_status</th>\n",
              "      <th>rent_or_own</th>\n",
              "      <th>employment_status</th>\n",
              "      <th>hhs_geo_region</th>\n",
              "      <th>census_msa</th>\n",
              "      <th>household_adults</th>\n",
              "      <th>household_children</th>\n",
              "      <th>h1n1_vaccine</th>\n",
              "      <th>seasonal_vaccine</th>\n",
              "    </tr>\n",
              "  </thead>\n",
              "  <tbody>\n",
              "    <tr>\n",
              "      <th>0</th>\n",
              "      <td>1.0</td>\n",
              "      <td>0.0</td>\n",
              "      <td>0.0</td>\n",
              "      <td>0.0</td>\n",
              "      <td>0.0</td>\n",
              "      <td>0.0</td>\n",
              "      <td>0.0</td>\n",
              "      <td>1.0</td>\n",
              "      <td>1.0</td>\n",
              "      <td>0.0</td>\n",
              "      <td>...</td>\n",
              "      <td>Below Poverty</td>\n",
              "      <td>Not Married</td>\n",
              "      <td>Own</td>\n",
              "      <td>Not in Labor Force</td>\n",
              "      <td>oxchjgsf</td>\n",
              "      <td>Non-MSA</td>\n",
              "      <td>0.0</td>\n",
              "      <td>0.0</td>\n",
              "      <td>0</td>\n",
              "      <td>0</td>\n",
              "    </tr>\n",
              "    <tr>\n",
              "      <th>1</th>\n",
              "      <td>3.0</td>\n",
              "      <td>2.0</td>\n",
              "      <td>0.0</td>\n",
              "      <td>1.0</td>\n",
              "      <td>0.0</td>\n",
              "      <td>1.0</td>\n",
              "      <td>0.0</td>\n",
              "      <td>1.0</td>\n",
              "      <td>1.0</td>\n",
              "      <td>0.0</td>\n",
              "      <td>...</td>\n",
              "      <td>Below Poverty</td>\n",
              "      <td>Not Married</td>\n",
              "      <td>Rent</td>\n",
              "      <td>Employed</td>\n",
              "      <td>bhuqouqj</td>\n",
              "      <td>MSA, Not Principle  City</td>\n",
              "      <td>0.0</td>\n",
              "      <td>0.0</td>\n",
              "      <td>0</td>\n",
              "      <td>1</td>\n",
              "    </tr>\n",
              "    <tr>\n",
              "      <th>2</th>\n",
              "      <td>1.0</td>\n",
              "      <td>1.0</td>\n",
              "      <td>0.0</td>\n",
              "      <td>1.0</td>\n",
              "      <td>0.0</td>\n",
              "      <td>0.0</td>\n",
              "      <td>0.0</td>\n",
              "      <td>0.0</td>\n",
              "      <td>0.0</td>\n",
              "      <td>0.0</td>\n",
              "      <td>...</td>\n",
              "      <td>&lt;= $75,000, Above Poverty</td>\n",
              "      <td>Not Married</td>\n",
              "      <td>Own</td>\n",
              "      <td>Employed</td>\n",
              "      <td>qufhixun</td>\n",
              "      <td>MSA, Not Principle  City</td>\n",
              "      <td>2.0</td>\n",
              "      <td>0.0</td>\n",
              "      <td>0</td>\n",
              "      <td>0</td>\n",
              "    </tr>\n",
              "    <tr>\n",
              "      <th>3</th>\n",
              "      <td>1.0</td>\n",
              "      <td>1.0</td>\n",
              "      <td>0.0</td>\n",
              "      <td>1.0</td>\n",
              "      <td>0.0</td>\n",
              "      <td>1.0</td>\n",
              "      <td>1.0</td>\n",
              "      <td>0.0</td>\n",
              "      <td>0.0</td>\n",
              "      <td>0.0</td>\n",
              "      <td>...</td>\n",
              "      <td>Below Poverty</td>\n",
              "      <td>Not Married</td>\n",
              "      <td>Rent</td>\n",
              "      <td>Not in Labor Force</td>\n",
              "      <td>lrircsnp</td>\n",
              "      <td>MSA, Principle City</td>\n",
              "      <td>0.0</td>\n",
              "      <td>0.0</td>\n",
              "      <td>0</td>\n",
              "      <td>1</td>\n",
              "    </tr>\n",
              "    <tr>\n",
              "      <th>4</th>\n",
              "      <td>2.0</td>\n",
              "      <td>1.0</td>\n",
              "      <td>0.0</td>\n",
              "      <td>1.0</td>\n",
              "      <td>0.0</td>\n",
              "      <td>1.0</td>\n",
              "      <td>1.0</td>\n",
              "      <td>0.0</td>\n",
              "      <td>1.0</td>\n",
              "      <td>0.0</td>\n",
              "      <td>...</td>\n",
              "      <td>&lt;= $75,000, Above Poverty</td>\n",
              "      <td>Married</td>\n",
              "      <td>Own</td>\n",
              "      <td>Employed</td>\n",
              "      <td>qufhixun</td>\n",
              "      <td>MSA, Not Principle  City</td>\n",
              "      <td>1.0</td>\n",
              "      <td>0.0</td>\n",
              "      <td>0</td>\n",
              "      <td>0</td>\n",
              "    </tr>\n",
              "  </tbody>\n",
              "</table>\n",
              "<p>5 rows × 34 columns</p>\n",
              "</div>\n",
              "      <button class=\"colab-df-convert\" onclick=\"convertToInteractive('df-f5de484e-20d5-4eda-b419-e9844d99b6af')\"\n",
              "              title=\"Convert this dataframe to an interactive table.\"\n",
              "              style=\"display:none;\">\n",
              "        \n",
              "  <svg xmlns=\"http://www.w3.org/2000/svg\" height=\"24px\"viewBox=\"0 0 24 24\"\n",
              "       width=\"24px\">\n",
              "    <path d=\"M0 0h24v24H0V0z\" fill=\"none\"/>\n",
              "    <path d=\"M18.56 5.44l.94 2.06.94-2.06 2.06-.94-2.06-.94-.94-2.06-.94 2.06-2.06.94zm-11 1L8.5 8.5l.94-2.06 2.06-.94-2.06-.94L8.5 2.5l-.94 2.06-2.06.94zm10 10l.94 2.06.94-2.06 2.06-.94-2.06-.94-.94-2.06-.94 2.06-2.06.94z\"/><path d=\"M17.41 7.96l-1.37-1.37c-.4-.4-.92-.59-1.43-.59-.52 0-1.04.2-1.43.59L10.3 9.45l-7.72 7.72c-.78.78-.78 2.05 0 2.83L4 21.41c.39.39.9.59 1.41.59.51 0 1.02-.2 1.41-.59l7.78-7.78 2.81-2.81c.8-.78.8-2.07 0-2.86zM5.41 20L4 18.59l7.72-7.72 1.47 1.35L5.41 20z\"/>\n",
              "  </svg>\n",
              "      </button>\n",
              "      \n",
              "  <style>\n",
              "    .colab-df-container {\n",
              "      display:flex;\n",
              "      flex-wrap:wrap;\n",
              "      gap: 12px;\n",
              "    }\n",
              "\n",
              "    .colab-df-convert {\n",
              "      background-color: #E8F0FE;\n",
              "      border: none;\n",
              "      border-radius: 50%;\n",
              "      cursor: pointer;\n",
              "      display: none;\n",
              "      fill: #1967D2;\n",
              "      height: 32px;\n",
              "      padding: 0 0 0 0;\n",
              "      width: 32px;\n",
              "    }\n",
              "\n",
              "    .colab-df-convert:hover {\n",
              "      background-color: #E2EBFA;\n",
              "      box-shadow: 0px 1px 2px rgba(60, 64, 67, 0.3), 0px 1px 3px 1px rgba(60, 64, 67, 0.15);\n",
              "      fill: #174EA6;\n",
              "    }\n",
              "\n",
              "    [theme=dark] .colab-df-convert {\n",
              "      background-color: #3B4455;\n",
              "      fill: #D2E3FC;\n",
              "    }\n",
              "\n",
              "    [theme=dark] .colab-df-convert:hover {\n",
              "      background-color: #434B5C;\n",
              "      box-shadow: 0px 1px 3px 1px rgba(0, 0, 0, 0.15);\n",
              "      filter: drop-shadow(0px 1px 2px rgba(0, 0, 0, 0.3));\n",
              "      fill: #FFFFFF;\n",
              "    }\n",
              "  </style>\n",
              "\n",
              "      <script>\n",
              "        const buttonEl =\n",
              "          document.querySelector('#df-f5de484e-20d5-4eda-b419-e9844d99b6af button.colab-df-convert');\n",
              "        buttonEl.style.display =\n",
              "          google.colab.kernel.accessAllowed ? 'block' : 'none';\n",
              "\n",
              "        async function convertToInteractive(key) {\n",
              "          const element = document.querySelector('#df-f5de484e-20d5-4eda-b419-e9844d99b6af');\n",
              "          const dataTable =\n",
              "            await google.colab.kernel.invokeFunction('convertToInteractive',\n",
              "                                                     [key], {});\n",
              "          if (!dataTable) return;\n",
              "\n",
              "          const docLinkHtml = 'Like what you see? Visit the ' +\n",
              "            '<a target=\"_blank\" href=https://colab.research.google.com/notebooks/data_table.ipynb>data table notebook</a>'\n",
              "            + ' to learn more about interactive tables.';\n",
              "          element.innerHTML = '';\n",
              "          dataTable['output_type'] = 'display_data';\n",
              "          await google.colab.output.renderOutput(dataTable, element);\n",
              "          const docLink = document.createElement('div');\n",
              "          docLink.innerHTML = docLinkHtml;\n",
              "          element.appendChild(docLink);\n",
              "        }\n",
              "      </script>\n",
              "    </div>\n",
              "  </div>\n",
              "  "
            ]
          },
          "metadata": {},
          "execution_count": 44
        }
      ]
    },
    {
      "cell_type": "code",
      "source": [
        "h1n1.shape"
      ],
      "metadata": {
        "colab": {
          "base_uri": "https://localhost:8080/"
        },
        "id": "cF8vXKUhzK2T",
        "outputId": "05a0b447-6077-42e9-b7c8-5b29788d05d8"
      },
      "execution_count": null,
      "outputs": [
        {
          "output_type": "execute_result",
          "data": {
            "text/plain": [
              "(26707, 34)"
            ]
          },
          "metadata": {},
          "execution_count": 45
        }
      ]
    },
    {
      "cell_type": "code",
      "source": [
        "h1n1['h1n1_vaccine'].value_counts()"
      ],
      "metadata": {
        "colab": {
          "base_uri": "https://localhost:8080/"
        },
        "id": "mORh166UUcqr",
        "outputId": "89194b3a-7259-47bf-8905-fd1d5687a14e"
      },
      "execution_count": null,
      "outputs": [
        {
          "output_type": "execute_result",
          "data": {
            "text/plain": [
              "0    21033\n",
              "1     5674\n",
              "Name: h1n1_vaccine, dtype: int64"
            ]
          },
          "metadata": {},
          "execution_count": 46
        }
      ]
    },
    {
      "cell_type": "code",
      "source": [
        "h1n1['h1n1_vaccine'].value_counts().plot(kind='bar')\n",
        "plt.title('Bar Plot - Recieved H1N1 Vaccine')\n",
        "plt.show()"
      ],
      "metadata": {
        "colab": {
          "base_uri": "https://localhost:8080/",
          "height": 278
        },
        "id": "Ykv6ptONoqkh",
        "outputId": "02cf1cde-c643-49fb-f105-5d6b4cee601a"
      },
      "execution_count": null,
      "outputs": [
        {
          "output_type": "display_data",
          "data": {
            "text/plain": [
              "<Figure size 432x288 with 1 Axes>"
            ],
            "image/png": "[encoded data removed]"
          },
          "metadata": {
            "needs_background": "light"
          }
        }
      ]
    },
    {
      "cell_type": "code",
      "source": [
        "h1n1['h1n1_concern'].value_counts().plot.pie(title = 'Pie Chart Showing H1N1 Concern')\n",
        "plt.show()"
      ],
      "metadata": {
        "colab": {
          "base_uri": "https://localhost:8080/",
          "height": 264
        },
        "id": "Ht5oUkfv4seO",
        "outputId": "2bc8439e-24b5-49ae-fbab-7ac0b6f9aad5"
      },
      "execution_count": null,
      "outputs": [
        {
          "output_type": "display_data",
          "data": {
            "text/plain": [
              "<Figure size 432x288 with 1 Axes>"
            ],
            "image/png": "[encoded data removed]"
          },
          "metadata": {}
        }
      ]
    },
    {
      "cell_type": "code",
      "source": [
        "sns.countplot(x='h1n1_concern', data = h1n1, hue = 'h1n1_vaccine')\n",
        "plt.title('Distribution of H1N1 Concerns Separated by H1N1 Vaccine Status')\n",
        "plt.show()"
      ],
      "metadata": {
        "colab": {
          "base_uri": "https://localhost:8080/",
          "height": 296
        },
        "id": "T6sr5x9_VEA4",
        "outputId": "6765d944-c368-4290-a262-0662f96a5d2d"
      },
      "execution_count": null,
      "outputs": [
        {
          "output_type": "display_data",
          "data": {
            "text/plain": [
              "<Figure size 432x288 with 1 Axes>"
            ],
            "image/png": "[encoded data removed]"
          },
          "metadata": {
            "needs_background": "light"
          }
        }
      ]
    },
    {
      "cell_type": "code",
      "source": [
        "# Correlation Plot\n",
        "sns.heatmap(h1n1.corr())\n",
        "plt.title('Correlation Plot')\n",
        "plt.show()"
      ],
      "metadata": {
        "colab": {
          "base_uri": "https://localhost:8080/",
          "height": 419
        },
        "id": "sb3g0wHU4xEb",
        "outputId": "a1463bf8-2543-40ea-d2fa-5a01b084578d"
      },
      "execution_count": null,
      "outputs": [
        {
          "output_type": "display_data",
          "data": {
            "text/plain": [
              "<Figure size 432x288 with 2 Axes>"
            ],
            "image/png": "[encoded data removed]"
          },
          "metadata": {
            "needs_background": "light"
          }
        }
      ]
    },
    {
      "cell_type": "code",
      "source": [
        "# Hot Encoding age_group \n",
        "age_encoding = pd.get_dummies(h1n1['age_group'])\n",
        "h1n1 = h1n1.drop('age_group', axis = 1)\n",
        "h1n1 = h1n1.join(age_encoding)\n",
        "\n",
        "# Hot Encoding education \n",
        "edu_encoding = pd.get_dummies(h1n1['education'])\n",
        "h1n1 = h1n1.drop('education', axis = 1)\n",
        "h1n1 = h1n1.join(edu_encoding)\n",
        "\n",
        "# Hot Encoding race \n",
        "race_encoding = pd.get_dummies(h1n1['race'])\n",
        "h1n1 = h1n1.drop('race', axis = 1)\n",
        "h1n1 = h1n1.join(race_encoding)\n",
        "\n",
        "# Hot Encoding sex\n",
        "h1n1['sex'] = pd.get_dummies(h1n1['sex'], drop_first = True)\n",
        "\n",
        "# Hot Encoding income_poverty \n",
        "income_encoding = pd.get_dummies(h1n1['income_poverty'])\n",
        "h1n1 = h1n1.drop('income_poverty', axis = 1)\n",
        "h1n1 = h1n1.join(income_encoding)\n",
        "\n",
        "# Hot Encoding marital_status\n",
        "h1n1['marital_status'] = pd.get_dummies(h1n1['marital_status'], drop_first = True)\n",
        "\n",
        "# Hot Encoding rent_or_own\n",
        "h1n1['rent_or_own'] = pd.get_dummies(h1n1['rent_or_own'], drop_first = True)\n",
        "\n",
        "# Hot Encoding employment_status \n",
        "employment_encoding = pd.get_dummies(h1n1['employment_status'])\n",
        "h1n1 = h1n1.drop('employment_status', axis = 1)\n",
        "h1n1 = h1n1.join(employment_encoding)\n",
        "\n",
        "# Hot Encoding hhs_geo_region \n",
        "geo_encoding = pd.get_dummies(h1n1['hhs_geo_region'])\n",
        "h1n1 = h1n1.drop('hhs_geo_region', axis = 1)\n",
        "h1n1 = h1n1.join(geo_encoding)\n",
        "\n",
        "# Hot Encoding census_msa \n",
        "census_encoding = pd.get_dummies(h1n1['census_msa'])\n",
        "h1n1 = h1n1.drop('census_msa', axis = 1)\n",
        "h1n1 = h1n1.join(census_encoding)"
      ],
      "metadata": {
        "id": "B5bQUAoB4dDR"
      },
      "execution_count": null,
      "outputs": []
    },
    {
      "cell_type": "code",
      "source": [
        "# Split Data into targets and features\n",
        "X = h1n1.drop('h1n1_vaccine', axis = 1).values\n",
        "y = h1n1['h1n1_vaccine'].values"
      ],
      "metadata": {
        "id": "cdnVLjhf4nvG"
      },
      "execution_count": null,
      "outputs": []
    },
    {
      "cell_type": "code",
      "source": [
        "# Split data into training and tests\n",
        "X_train, X_test, y_train, y_test = train_test_split(X, y, test_size = 0.30, random_state = 0)"
      ],
      "metadata": {
        "id": "ce_K8WWK5ayF"
      },
      "execution_count": null,
      "outputs": []
    },
    {
      "cell_type": "code",
      "source": [
        "# Standardizing Dataset\n",
        "sc = StandardScaler()\n",
        "X_train = sc.fit_transform(X_train)\n",
        "X_test = sc.transform(X_test)"
      ],
      "metadata": {
        "id": "bVUMIQ775lsK"
      },
      "execution_count": null,
      "outputs": []
    },
    {
      "cell_type": "code",
      "source": [
        "# Training Decision Tree Classifier \n",
        "dt = DecisionTreeClassifier()\n",
        "dt.fit(X_train, y_train)"
      ],
      "metadata": {
        "colab": {
          "base_uri": "https://localhost:8080/"
        },
        "id": "PfzN8hcM5zmU",
        "outputId": "e68f2246-c2c2-4c46-f65d-0e959e973bda"
      },
      "execution_count": null,
      "outputs": [
        {
          "output_type": "execute_result",
          "data": {
            "text/plain": [
              "DecisionTreeClassifier()"
            ]
          },
          "metadata": {},
          "execution_count": 55
        }
      ]
    },
    {
      "cell_type": "code",
      "source": [
        "# Parameters of Decision Tree Classifier\n",
        "dt.get_params()"
      ],
      "metadata": {
        "colab": {
          "base_uri": "https://localhost:8080/"
        },
        "id": "c7D7lChT57xe",
        "outputId": "cb191b33-ef82-4f8d-b955-8c37030dcde0"
      },
      "execution_count": null,
      "outputs": [
        {
          "output_type": "execute_result",
          "data": {
            "text/plain": [
              "{'ccp_alpha': 0.0,\n",
              " 'class_weight': None,\n",
              " 'criterion': 'gini',\n",
              " 'max_depth': None,\n",
              " 'max_features': None,\n",
              " 'max_leaf_nodes': None,\n",
              " 'min_impurity_decrease': 0.0,\n",
              " 'min_samples_leaf': 1,\n",
              " 'min_samples_split': 2,\n",
              " 'min_weight_fraction_leaf': 0.0,\n",
              " 'random_state': None,\n",
              " 'splitter': 'best'}"
            ]
          },
          "metadata": {},
          "execution_count": 56
        }
      ]
    },
    {
      "cell_type": "code",
      "source": [
        "# 5-Fold Cross Validation - Decision Tree  \n",
        "k = 5\n",
        "kf = KFold(n_splits=k)\n",
        "\n",
        "result_dt = cross_val_score(dt, X_train, y_train.ravel(), cv = kf, scoring='accuracy') \n",
        "print(f'Decision Tree Avg accuracy:{result_dt.mean()}')"
      ],
      "metadata": {
        "colab": {
          "base_uri": "https://localhost:8080/"
        },
        "id": "Iwmcwjt_6kb5",
        "outputId": "632e1b99-72cb-4b34-da04-37273288ef66"
      },
      "execution_count": null,
      "outputs": [
        {
          "output_type": "stream",
          "name": "stdout",
          "text": [
            "Decision Tree Avg accuracy:0.7790194200473342\n"
          ]
        }
      ]
    },
    {
      "cell_type": "code",
      "source": [
        "# Making Predictions - Decision Tree \n",
        "y_pred_dt = dt.predict(X_test)"
      ],
      "metadata": {
        "id": "qBIiMrTu6EVP"
      },
      "execution_count": null,
      "outputs": []
    },
    {
      "cell_type": "code",
      "source": [
        "# Classification Report - Decision Tree\n",
        "print(f'Classification Report for Decision Tree')\n",
        "print(classification_report(y_test, y_pred_dt, target_names = ['Not H1N1 vaccinated', 'H1N1 vaccinated']))"
      ],
      "metadata": {
        "colab": {
          "base_uri": "https://localhost:8080/"
        },
        "id": "vY7THMvr6LtO",
        "outputId": "7a3b6d2d-9991-4139-dfe4-c36c918cf44e"
      },
      "execution_count": null,
      "outputs": [
        {
          "output_type": "stream",
          "name": "stdout",
          "text": [
            "Classification Report for Decision Tree\n",
            "                     precision    recall  f1-score   support\n",
            "\n",
            "Not H1N1 vaccinated       0.85      0.86      0.86      6279\n",
            "    H1N1 vaccinated       0.48      0.47      0.48      1734\n",
            "\n",
            "           accuracy                           0.78      8013\n",
            "          macro avg       0.67      0.67      0.67      8013\n",
            "       weighted avg       0.77      0.78      0.78      8013\n",
            "\n"
          ]
        }
      ]
    },
    {
      "cell_type": "code",
      "source": [
        "# Training Random Forest Classifier \n",
        "rf = RandomForestClassifier(n_estimators=10, criterion='gini',random_state=1)\n",
        "rf.fit(X_train,y_train.ravel())"
      ],
      "metadata": {
        "colab": {
          "base_uri": "https://localhost:8080/"
        },
        "id": "3aXRJatr7BRq",
        "outputId": "ef445332-f602-40c3-a663-6bae746034d3"
      },
      "execution_count": null,
      "outputs": [
        {
          "output_type": "execute_result",
          "data": {
            "text/plain": [
              "RandomForestClassifier(n_estimators=10, random_state=1)"
            ]
          },
          "metadata": {},
          "execution_count": 60
        }
      ]
    },
    {
      "cell_type": "code",
      "source": [
        "# 5-Fold Cross Validation - Random Forest  \n",
        "k = 5\n",
        "kf = KFold(n_splits=k)\n",
        "\n",
        "result_rf = cross_val_score(rf, X_train, y_train.ravel(), cv = kf, scoring='accuracy') \n",
        "print(f'Random Forest Avg accuracy:{result_rf.mean()}')"
      ],
      "metadata": {
        "colab": {
          "base_uri": "https://localhost:8080/"
        },
        "id": "PN6mtk5i7_Qb",
        "outputId": "6aaafee0-3407-418e-aa6d-e2c8278b0fd3"
      },
      "execution_count": null,
      "outputs": [
        {
          "output_type": "stream",
          "name": "stdout",
          "text": [
            "Random Forest Avg accuracy:0.8336900637089055\n"
          ]
        }
      ]
    },
    {
      "cell_type": "code",
      "source": [
        "# Making Predictions - Random Forest\n",
        "y_pred_rf = rf.predict(X_test)"
      ],
      "metadata": {
        "id": "mw64YFZ-7wuH"
      },
      "execution_count": null,
      "outputs": []
    },
    {
      "cell_type": "code",
      "source": [
        "# Classification Report - Random Forest\n",
        "print(f'Classification Report for Decision Tree')\n",
        "print(classification_report(y_test, y_pred_rf, target_names = ['Not H1N1 vaccinated', 'H1N1 vaccinated']))"
      ],
      "metadata": {
        "colab": {
          "base_uri": "https://localhost:8080/"
        },
        "id": "kMUweIey70Zi",
        "outputId": "3c476c89-ead9-4e01-8e7b-d6d7d456d460"
      },
      "execution_count": null,
      "outputs": [
        {
          "output_type": "stream",
          "name": "stdout",
          "text": [
            "Classification Report for Decision Tree\n",
            "                     precision    recall  f1-score   support\n",
            "\n",
            "Not H1N1 vaccinated       0.85      0.95      0.90      6279\n",
            "    H1N1 vaccinated       0.70      0.40      0.51      1734\n",
            "\n",
            "           accuracy                           0.83      8013\n",
            "          macro avg       0.78      0.68      0.70      8013\n",
            "       weighted avg       0.82      0.83      0.82      8013\n",
            "\n"
          ]
        }
      ]
    }
  ]
}